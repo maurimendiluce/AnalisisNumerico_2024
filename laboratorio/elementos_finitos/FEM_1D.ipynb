{
 "cells": [
  {
   "cell_type": "markdown",
   "id": "ef082cb9-3247-4a0e-bed4-d4228d92fe89",
   "metadata": {},
   "source": [
    "# Método de Elementos Finitos (FEM)"
   ]
  },
  {
   "cell_type": "markdown",
   "id": "afc3f431-d036-45f3-991b-407b2bc05572",
   "metadata": {},
   "source": [
    "El Método de Elementos Finitos (FEM) es un método numérico que nos permite computar las soluciones de ecuaciones en dervidas parciales). Para que tenga solución única se necesita el valor de la solución en la frontera (condición de borde). Con esta notebook comenzaremos a desarrollar el método en su versión unidimensional con un ejemplo de utilidad que tiene solución analítica: la ecuación de Poisson.\n",
    "\n",
    "$$ \\left \\{ \\begin{array}{l} -u^{''}=f \\ \\ \\text{ para } \\ \\ x\\in I=\\left(0,1 \\right) \\\\   u(0)=u(1)=0   \\end{array} \\right . \\tag{1}$$\n",
    "\n",
    "donde $f$ es conocida."
   ]
  },
  {
   "cell_type": "markdown",
   "id": "63be0f50-8c13-4c73-a6cd-1de88b901778",
   "metadata": {},
   "source": [
    "Usaremos el siguiente método para testear el método.\n",
    "\n",
    "**Ejemplo:** Tomemos $f(x)=1$. En este caso la solución exacta está dada por $u(x)=\\frac{x(1-x)}{2}$."
   ]
  },
  {
   "cell_type": "markdown",
   "id": "6385b992-8539-4192-8c67-92146f3ac3da",
   "metadata": {},
   "source": [
    "## Formulación variacional\n",
    "\n",
    "La solución utilizando FEM siempre comienza por reescribir la ecuación (1) en lo que se denominada **forma variacional** o **forma débil**. Multiplicamos la ecuación por una función de prueba  $v$ (*función test*).\n",
    "\n",
    "$$-\\int_{0}^{1}u'' \\ \\ v \\ \\ dx = \\int_{0}^{1}f \\ \\ v \\ \\ dx \\tag{2}$$\n",
    "\n",
    "Notar que la parte izquierda de esta ecuación tiene una segunda derivada, lo que es conveniente bajar el orden de esta derivada (veremos más adelante el porque hacer esto). Para esto se integra por partes\n",
    "\n",
    "$$-\\left[ \\left. u'v \\ \\ \\right |_{0}^{1}-\\int_{0}^{1}v'u'dx\\right] = \\int_{0}^{1} fvdx$$\n",
    "\n",
    "Luego,\n",
    "\n",
    "$$\\int_{0}^{1}v'u'dx + u'(0)v(0) - u'(1)v(1) = \\int_{0}^{1} fvdx.$$\r\n",
    "\n",
    "A la función $v$ vamos a pedirle que cumpla  $v(0)=0$  y  $v(1)=0$  (si tuvieramos información de $u'$ en los bordes no sería necesario). De esta forma la ecuación anterior nos queda:\n",
    "\n",
    "$$\\int_{0}^{1}v'u' \\ \\ dx = \\int_{0}^{1} fv \\ \\ dx  \\ \\ \\ \\ \\forall v \\in V_{0}.\\tag{3}$$\r\n",
    "A $v$ le vamos a pedir que se comporte bien, por eso tendrá que ser:\n",
    "\n",
    "$$v\\in C^{\\infty}_c(0,1)$$\n",
    "\n",
    "Veremos más adelante que no hace falta pedirle tanto.\n",
    "\n"
   ]
  },
  {
   "cell_type": "markdown",
   "id": "f3bd0ec3-719d-4f4d-95f2-039806b1fdee",
   "metadata": {},
   "source": [
    "## Aproximación por elementos finitos\n",
    "\n",
    "El siguiente paso es aproximar $u$. En este caso usando una función continua y lineal a trozos. Utilizaremos el  $V_h$  (ver la notebook sobre Polinomios a trozos). También le pediremos que se cumpla  $v(0)=0$  y  $v(1)=0$. Entonces resolveremos:\n",
    "\n",
    "$$\\int_{0}^{1}u_{h}^{'}v^{'} \\ \\ dx = \\int_{0}^{1} fv \\ \\ dx   \\ \\ \\ \\ \\forall v \\in V_{h} \\tag{4}$$\n",
    "\n",
    "A esto se le dice *método de Galerkin*, en honor a quien lo propuso. Observemos que tanto $u_h$  como  $v$  pertenecen al espacio $V_h$ , esto es porque también $u_h$ vale cero en los bordes.\r\n",
    "### Sistema de ecuaciones lineales\n",
    "\n",
    "Lo que vamos a hacer es pasar de una ecuación con integrales (4) a un sistema de ecuaciones lineales cuya solución serán unas constantes  $α_i$, que nos permitirán construir nuestra solución aproximada $u_h$. El sistema de ecuaciones lineales lo expresaremos de la forma: \n",
    "\n",
    "$$A\\alpha = b$$\n",
    "\n",
    "donde  $A$  es una matriz de  $(n−1)\\times (n−1)$ ,  $α$  y  $b$  son vectores de  $(n−1)\\times 1$. Tomaremos la función de prueba $v=\\phi_i(x)$ con  $i=1,…,n−1$ (funciones bases), dado que $v$ debe ser cero en los bordes (por eso no están  $i=0$  e  $i=n$). Por lo tanto si expresamos la ecuación (4) con esta $v$ tendremos:\n",
    "\n",
    "$$ \\int_{0}^{1}u_{h}'\\varphi_{i}'(x) \\ \\ dx = \\int_{0}^{1} f \\varphi_{i}(x) \\ \\ dx   \\quad \\forall i=1,...,n-1   \\tag{5}.$$\n",
    "\n",
    "Como $u_h$ también pertenece a $V_h$ entonces también la podemos escribir como combinación lineal de las funciones bases ($\\phi_j$, le ponemos otro subíndice para distinguirlas):\n",
    "\n",
    "$$ u_{h} = \\sum_{j=1}^{n-1} \\alpha_{j} \\varphi_{j} \\tag{6}.$$\r\n",
    "esto lo reemplazo en la ecuación (5) y nos queda \n",
    "\n",
    "$$ \\int_{0}^{1} \\left( \\sum_{j=1}^{n-1} \\alpha_{j} \\varphi_{j} \\right)' \\varphi_{i}' dx = \\int_{0}^{1} \\sum_{j=1}^{n-1} \\alpha_{j} \\left( \\varphi_{j} \\right)' \\varphi_{i}' dx = \\sum_{j=1}^{n-1} \\alpha_{j} \\int_{0}^{1} \\varphi_{j}' \\varphi_{i}' dx = \\int_{0}^{1} f \\varphi_{i} \\ \\ dx.$$\n",
    "\n",
    "Ahora introducimos la notación:\n",
    "\n",
    "$$A_{ij} = \\int_{0}^{1} \\varphi_{j}^{'} \\varphi_{i}^{'} dx \\ \\ \\text{con} \\ \\ i,j=1,\\dots, n-1 \\tag{7}$$\n",
    "\n",
    "$$b_{i}=\\int_{0}^{1} f \\varphi_{i} \\ \\ dx \\ \\ \\text{con} \\ \\ i=1,\\dots, n-1 \\tag{8}$$\n",
    "\n",
    "Luego, nuestro problema se reduce a resolver el siguiente sistema:\n",
    "\n",
    "$$ \\begin{bmatrix} A_{11} & A_{12} & \\cdots & A_{1(n-1)} \\\\ A_{21} & \\ddots & \\cdots & \\vdots \\\\ \\vdots &  &  & \\vdots \\\\  A_{(n-1)1} & \\cdots & \\cdots & A_{(n-1)(n-1)} \\end{bmatrix} \\begin{bmatrix} \\alpha_{1} \\\\ \\alpha_{2} \\\\ \\vdots \\\\ \\alpha_{n-1} \\end{bmatrix}= \\begin{bmatrix} b_{1} \\\\ b_{2} \\\\ \\vdots \\\\ b_{n-1} \\end{bmatrix} \\tag{10}$$\r\n",
    "A la matriz $A$ se le dice matriz de rigidéz (*stifness matrix*) y a $b$  se le dice vector de cargas (*load vector*)\n",
    "$\r\n",
    "\n",
    "\n",
    "\n"
   ]
  },
  {
   "cell_type": "markdown",
   "id": "006ab503-d55c-4e10-8734-d3adf09d8829",
   "metadata": {},
   "source": [
    "## Algoritmo\n",
    "\n",
    "1. Crear la malla/grilla que discretiza $I$. \n",
    "2. Computar la matriz de rigidez y el vector de cargas.\n",
    "3. Resolver el sistema de ecuaciones. Tener en cuenta previamente la incorporación de los datos de borde.\n",
    "4. Si quiero la funcion aproximante se puede implementar $u_h(x) = \\sum \\alpha_j\\varphi_j(x)$\n",
    "\n",
    "Recordar que las funciones base (caso lineal) se definen de la siguiente forma: \n",
    "\n",
    "$$\\varphi_j(x_i)=\\left\\{\\begin{array}{l} \n",
    "            \\frac{x-x_{i-1}}{h_i} \\quad x\\in I_i\\\\\n",
    "            \\frac{x_{i+1}-x}{h_{i+1}} \\quad x\\in I_{i+1}\\\\\n",
    "            0 \\quad \\text{caso contrario}\n",
    "            \\end{array}\\right.\n",
    "            $$"
   ]
  },
  {
   "cell_type": "markdown",
   "id": "cbd5a56d-6662-43c9-9099-a0e700fbb594",
   "metadata": {},
   "source": [
    "### Observación importante\n",
    "\n",
    "Al armar la matriz $A$ y el vector $b$, debemos calcular integrales. En muchas ocaciones estas integrales se pueden aproximar con alguna regla de cuadratura (muchas veces de forma exacta, ya veremos mas adelante). Pero noten que para el caso de las integrales que para la matriz $A$ son integrales de constantes ya que involucran derivades de funciones lineales. Para el caso del vector de carga $b$ si debemos usar alguna regla de cuadratura ya que $f$ puede ser cualquier función."
   ]
  },
  {
   "cell_type": "markdown",
   "id": "1752476d-9823-4c5b-87c6-0a53bfe02228",
   "metadata": {},
   "source": [
    "---"
   ]
  },
  {
   "cell_type": "code",
   "execution_count": null,
   "id": "df103c69-8451-4a98-a4b2-76a43f575a1a",
   "metadata": {},
   "outputs": [],
   "source": [
    "using Plots,LinearAlgebra"
   ]
  },
  {
   "cell_type": "markdown",
   "id": "54860be7-f00c-4347-9008-ee4b1b66702a",
   "metadata": {},
   "source": [
    "**Paso 1:** Armamos nuestra malla/grilla discretizando el intervalo."
   ]
  },
  {
   "cell_type": "code",
   "execution_count": null,
   "id": "1ad82748-cb0f-49a8-a3a2-a4ba61fc0049",
   "metadata": {},
   "outputs": [],
   "source": [
    "function mesh(N) #N es el numero de intervalos que quiero\n",
    "\n",
    "    h=1/N\n",
    "    x=0:h:1\n",
    "    return x\n",
    "end\n",
    "\n",
    "N=8\n",
    "x=mesh(N)\n",
    "plot(x,zeros(length(x)),seriestype=:scatter,legend=false)\n",
    "plot!(x,zeros(length(x)),legend=false)\n",
    "ylims!(-0.5,0.5)"
   ]
  },
  {
   "cell_type": "markdown",
   "id": "6c315cb4-755e-4cd0-8d78-300a8b654f18",
   "metadata": {},
   "source": [
    "**Paso 2:** Definimos la función $f$, y dos funciones que generen la matriz de rigidez y el lado derecho del sistema. Las funciones toman como parametro los nodos y en el caso de la función para construir el lado derecho del sistema, también la función  $f$."
   ]
  },
  {
   "cell_type": "code",
   "execution_count": null,
   "id": "a5672ef7-a998-430e-99bf-9d45e259d397",
   "metadata": {},
   "outputs": [],
   "source": [
    "f(x)=1\n",
    "\n",
    "function LoadVector(nodos,f)\n",
    "    \n",
    "    N = length(nodos)\n",
    "    b = zeros(N)\n",
    "    h = nodos[2]-nodos[1]\n",
    "    for k=1:N-1\n",
    "        nodo0 = nodos[k]\n",
    "        nodo1 = nodos[k+1]\n",
    "        b[k] = b[k] + (h/2)*f(nodo0)\n",
    "        b[k+1] = b[k+1] + (h/2)*f(nodo1)\n",
    "    end\n",
    "    return b\n",
    "end\n",
    "\n",
    "function Stiffnes(nodos)\n",
    "\n",
    "    N = length(nodos)\n",
    "    A = zeros(N,N)\n",
    "    h = nodos[2]-nodos[1]\n",
    "    for k=1:N-1\n",
    "        S = zeros(2,2)\n",
    "        S[1,1] = 1/h\n",
    "        S[1,2] = -1/h\n",
    "        S[2,1] = S[1,2]\n",
    "        S[2,2] =1/h\n",
    "        A[[k,k+1],[k,k+1]] = A[[k,k+1],[k,k+1]] + S\n",
    "    end\n",
    "    return A\n",
    "end"
   ]
  },
  {
   "cell_type": "markdown",
   "id": "0d71c27f-b6b9-4d2a-bb7d-ed3e959620ad",
   "metadata": {},
   "source": [
    "**Paso 3:** Generamos una función que resuelva el problema de elementos finitos y luego graficamos y comparamos con la solución exacta. Usaremos la función mesh dentro de esta nueva función. Así, el parametro a ingresar es la cantidad de intervalos que queremos tener."
   ]
  },
  {
   "cell_type": "code",
   "execution_count": null,
   "id": "4b493ed6-49cf-40ba-ba9a-aafbb6c17c8b",
   "metadata": {},
   "outputs": [],
   "source": [
    "U(x) = 0.5*(x*(1-x))"
   ]
  },
  {
   "cell_type": "code",
   "execution_count": null,
   "id": "bfca84b8-27ca-4ecc-b4dc-5fbeb2cb796a",
   "metadata": {},
   "outputs": [],
   "source": [
    "function fem1D(N,f)\n",
    "    nodos = mesh(N)\n",
    "    A = Stiffnes(nodos)\n",
    "    b = LoadVector(nodos,f)\n",
    "\n",
    "    #ahora debemos incorporar los datos de borde Dirichlet\n",
    "    A[1,:] = zeros(length(nodos))\n",
    "    A[1,1] = 1\n",
    "    b[1] = 0\n",
    "    A[end,:] = zeros(length(nodos))\n",
    "    A[end,end] = 1\n",
    "    b[end] = 0\n",
    "\n",
    "    #ahora resolvemos el sistema\n",
    "    uₕ = A\\b\n",
    "    return uₕ\n",
    "end"
   ]
  },
  {
   "cell_type": "code",
   "execution_count": null,
   "id": "ea566b9a-02d0-42fd-9b22-d4f2d4d8d4a0",
   "metadata": {},
   "outputs": [],
   "source": [
    "uₕ = fem1D(8,f)"
   ]
  },
  {
   "cell_type": "code",
   "execution_count": null,
   "id": "915ff661-5b21-416a-9c2a-9ac5da43c6c6",
   "metadata": {},
   "outputs": [],
   "source": [
    "nodos=mesh(8)\n",
    "x = 0:0.01:1\n",
    "plot(nodos,uₕ,label=\"Solución por FEM\")\n",
    "plot!(x,U.(x),label=\"Solución exacta\")"
   ]
  },
  {
   "cell_type": "markdown",
   "id": "3ff99074-a055-4438-bf8b-b0074a59f63c",
   "metadata": {},
   "source": [
    "---"
   ]
  },
  {
   "cell_type": "markdown",
   "id": "a3a0870a-3362-4ccf-8395-e05873ff6e69",
   "metadata": {},
   "source": [
    "Con esto pueden comenzar a resolver y testear los ejercicios que están en la guía 4. \n",
    "\n",
    "Una **actividad importante** que pueden hacer es mirar los errores por ejemplo en $\\|\\cdot\\|_{L^2}$. Para esto planteen como es esa norma entre $U$ y la $u_h$, piensen como aproximarian esa integral. "
   ]
  },
  {
   "cell_type": "code",
   "execution_count": null,
   "id": "0d045713-2d84-4a85-8c55-67308230874b",
   "metadata": {},
   "outputs": [],
   "source": []
  }
 ],
 "metadata": {
  "kernelspec": {
   "display_name": "Julia 1.10.5",
   "language": "julia",
   "name": "julia-1.10"
  },
  "language_info": {
   "file_extension": ".jl",
   "mimetype": "application/julia",
   "name": "julia",
   "version": "1.10.5"
  }
 },
 "nbformat": 4,
 "nbformat_minor": 5
}
