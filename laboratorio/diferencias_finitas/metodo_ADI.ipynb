{
 "cells": [
  {
   "cell_type": "markdown",
   "id": "af8271b2-7103-47ae-8434-161bbbfc3484",
   "metadata": {},
   "source": [
    "# Método ADI"
   ]
  },
  {
   "cell_type": "markdown",
   "id": "fb8173cf-5e4a-4b62-9df9-fab33fcbcab4",
   "metadata": {},
   "source": [
    "Queremos resolver el siguiente problema utilizando un método explícito y luego el método ADI.\n",
    "\n",
    "\\begin{equation*}\\left\\{\\begin{array}{cc}U_t = \\sigma( U_{xx} +  U_{yy})  + a_x U_x + a_y U_y + f & \\Omega = [0,1]^2 , \\; t\\in(0,T_f) \\\\\n",
    "\tU(x,y,t) = 0 & (x,y)\\in\\partial\\Omega, \\; t\\in(0,T_f). \\\\\n",
    "        U(x,y,0) = U_0(x,y) &  (x,y)\\in\\Omega\\end{array}\\right.\\end{equation*}"
   ]
  },
  {
   "cell_type": "markdown",
   "id": "551eddc9-1fb2-4a3a-87aa-a448fb6dda01",
   "metadata": {},
   "source": [
    "## Datos del problema\n",
    "\n",
    "* $f=1$\n",
    "* $\\sigma=1$\n",
    "* $a_x=5$, $a_y=5$\n",
    "* $U_0(x,y)=e^{-10((x-0.5)^2+(y-0.5)^2)}$\n",
    "* $T_f = 0.5$"
   ]
  },
  {
   "cell_type": "code",
   "execution_count": 3,
   "id": "393f5c08-5715-4473-9d5d-45652f481ac3",
   "metadata": {},
   "outputs": [],
   "source": [
    "using LinearAlgebra, Plots"
   ]
  },
  {
   "cell_type": "code",
   "execution_count": 5,
   "id": "baa9224c-d3f9-4d41-a3fc-53f74c73aeac",
   "metadata": {},
   "outputs": [
    {
     "data": {
      "text/plain": [
       "0.5"
      ]
     },
     "execution_count": 5,
     "metadata": {},
     "output_type": "execute_result"
    }
   ],
   "source": [
    "f(x,y) = 1\n",
    "U₀(x,y) = exp(-10*((x-0.5)^2+(y-0.5)^2))\n",
    "a_x = 5\n",
    "a_y = 5\n",
    "T_f = 0.5"
   ]
  },
  {
   "cell_type": "code",
   "execution_count": 7,
   "id": "6661ab07-bbd6-4797-bec9-7cfae0bd9287",
   "metadata": {},
   "outputs": [
    {
     "data": {
      "text/plain": [
       "meshgrid (generic function with 1 method)"
      ]
     },
     "execution_count": 7,
     "metadata": {},
     "output_type": "execute_result"
    }
   ],
   "source": [
    "function meshgrid(xin,yin)\n",
    "    nx=length(xin)\n",
    "    ny=length(yin)\n",
    "    xout=zeros(ny,nx)\n",
    "    yout=zeros(ny,nx)\n",
    "    for jx=1:nx\n",
    "        for ix=1:ny\n",
    "            xout[ix,jx]=xin[jx]\n",
    "            yout[ix,jx]=yin[ix]\n",
    "        end\n",
    "    end\n",
    "    return (x=xout, y=yout)\n",
    "end"
   ]
  },
  {
   "cell_type": "code",
   "execution_count": 9,
   "id": "cbd9e614-d0eb-4cdd-bf81-b8f57c487916",
   "metadata": {},
   "outputs": [
    {
     "data": {
      "text/plain": [
       "explicito (generic function with 1 method)"
      ]
     },
     "execution_count": 9,
     "metadata": {},
     "output_type": "execute_result"
    }
   ],
   "source": [
    "function explicito(h,r;f=f,U₀=U₀,σ=1,a_x=5,a_y=5,T_f=0.5)\n",
    "     \n",
    "    if h*abs(a_x)>2*σ\n",
    "      print(\"Cuidado! Es inestable\")\n",
    "    elseif h*abs(a_x)>2*σ\n",
    "      print(\"Cuidado! Es inestable\")\n",
    "    elseif r>1/(4*σ)\n",
    "      print(\"Cuidado! Es inestable\")\n",
    "    end\n",
    "\n",
    "    dt=(h^2)*r\n",
    "    N=round(T_f/dt)\n",
    "    N=Int(N)\n",
    "\n",
    "    #Genero la grilla de puntos\n",
    "    x = h:h:1-h\n",
    "    y = x\n",
    "\n",
    "    X,Y = meshgrid(x,y)\n",
    "    l = size(X,1)\n",
    "    \n",
    "    #Armamos las matrices para el metodo explicito\n",
    "    A = (1/(h^2))*Tridiagonal(ones(l-1),-2*ones(l),ones(l-1))\n",
    "    B = (1/(2*h))*Tridiagonal(-ones(l-1),zeros(l),ones(l-1))\n",
    "\n",
    "    u = U₀.(X,Y)\n",
    "    f = f.(X,Y)\n",
    "\n",
    "    for j=1:N\n",
    "        u = u+dt*((σ*A+a_x*B)*u+u*(σ*A+a_y*B')+f)\n",
    "    end\n",
    "    \n",
    "    return X,Y,u\n",
    "end\n"
   ]
  },
  {
   "cell_type": "code",
   "execution_count": null,
   "id": "a70f31be-1d53-423c-ac3a-7ef170515f3e",
   "metadata": {},
   "outputs": [],
   "source": [
    "surface(explicito(0.02,0.01))"
   ]
  },
  {
   "cell_type": "code",
   "execution_count": 13,
   "id": "cf16aabd-6a45-4738-a511-8400f917bb1f",
   "metadata": {},
   "outputs": [
    {
     "data": {
      "text/plain": [
       "adi (generic function with 1 method)"
      ]
     },
     "execution_count": 13,
     "metadata": {},
     "output_type": "execute_result"
    }
   ],
   "source": [
    "function adi(h,r;f=f,U₀=U₀,σ=1,a_x=5,a_y=5,T_f=0.5)\n",
    "    dt=(h^2)*r\n",
    "    N=round(T_f/dt)\n",
    "    N=Int(N)\n",
    "\n",
    "    #Genero la grilla de puntos\n",
    "    x = h:h:1-h\n",
    "    y = x\n",
    "\n",
    "    X,Y = meshgrid(x,y)\n",
    "    l = size(X,1)\n",
    "    \n",
    "    #Armamos las matrices para el metodo explicito\n",
    "    A = (1/(h^2))*Tridiagonal(ones(l-1),-2*ones(l),ones(l-1))\n",
    "    B = (1/(2*h))*Tridiagonal(-ones(l-1),zeros(l),ones(l-1))\n",
    "\n",
    "    u = U₀.(X,Y)\n",
    "    f = f.(X,Y)\n",
    "\n",
    "    ####Metodo ADI####\n",
    "    Id = I(l)\n",
    "    P1 = inv(Id-(dt/2)*(σ*A+a_x*B))\n",
    "    P2 = inv(Id-(dt/2)*(σ*A+a_y*B'))\n",
    "\n",
    "    for j=1:N\n",
    "        u_inter = P1*(u'*(Id+(dt/2)*(σ*A+a_y*B'))+(dt/2)*f)\n",
    "        u_adi = ((Id+(dt/2)*(σ*A+a_x*B))*u_inter+(dt/2)*f)*P2\n",
    "        u = u_adi\n",
    "    end\n",
    "    \n",
    "    return X,Y,u\n",
    "end"
   ]
  },
  {
   "cell_type": "code",
   "execution_count": null,
   "id": "e4cb1286-65ff-4821-8471-d20297ef432e",
   "metadata": {},
   "outputs": [],
   "source": [
    "surface(adi(0.02,0.01))"
   ]
  },
  {
   "cell_type": "markdown",
   "id": "984e93b8-c803-43e9-b5aa-cf8907ff47b9",
   "metadata": {},
   "source": [
    "### Animación"
   ]
  },
  {
   "cell_type": "code",
   "execution_count": 17,
   "id": "d7b161da-a493-44d8-9084-f1ec6bb232a5",
   "metadata": {},
   "outputs": [
    {
     "data": {
      "text/plain": [
       "adi_animate (generic function with 1 method)"
      ]
     },
     "execution_count": 17,
     "metadata": {},
     "output_type": "execute_result"
    }
   ],
   "source": [
    "function adi_animate(h,dt,pasos;f=f,U₀=U₀,σ=1,a_x=5,a_y=5,T_f=0.5)\n",
    "    N=pasos\n",
    "    \n",
    "    #Genero la grilla de puntos\n",
    "    x = h:h:1-h\n",
    "    y = x\n",
    "\n",
    "    X,Y = meshgrid(x,y)\n",
    "    l = size(X,1)\n",
    "    \n",
    "    #Armamos las matrices para el metodo explicito\n",
    "    A = (1/(h^2))*Tridiagonal(ones(l-1),-2*ones(l),ones(l-1))\n",
    "    B = (1/(2*h))*Tridiagonal(-ones(l-1),zeros(l),ones(l-1))\n",
    "\n",
    "    u = U₀.(X,Y)\n",
    "    f = f.(X,Y)\n",
    "\n",
    "    ####Metodo ADI####\n",
    "    Id = I(l)\n",
    "    P1 = inv(Id-(dt/2)*(σ*A+a_x*B))\n",
    "    P2 = inv(Id-(dt/2)*(σ*A+a_y*B'))\n",
    "\n",
    "    for j=1:N\n",
    "        u_inter = P1*(u'*(Id+(dt/2)*(σ*A+a_y*B'))+(dt/2)*f)\n",
    "        u_adi = ((Id+(dt/2)*(σ*A+a_x*B))*u_inter+(dt/2)*f)*P2\n",
    "        u = u_adi\n",
    "    end\n",
    "    \n",
    "    return X,Y,u\n",
    "end"
   ]
  },
  {
   "cell_type": "code",
   "execution_count": null,
   "id": "9d3318aa-9df6-45df-8d11-cff4efb855bc",
   "metadata": {},
   "outputs": [],
   "source": [
    "pasos = 30\n",
    "anim = @animate for i=1:pasos\n",
    "    surface(adi_animate(0.02,0.01,i,σ=1),zlim=(0,1))\n",
    "end\n",
    "gif(anim, \"anim.gif\", fps = 2) "
   ]
  },
  {
   "cell_type": "markdown",
   "id": "6eb0378d-817c-4780-96be-2345c9d04a2e",
   "metadata": {},
   "source": [
    "### Veamos que pasa con la estabilidad"
   ]
  },
  {
   "cell_type": "code",
   "execution_count": null,
   "id": "9fc3970c-ea23-4648-8755-7c03a5fe62e1",
   "metadata": {},
   "outputs": [],
   "source": [
    "surface(explicito(0.05,0.255))"
   ]
  },
  {
   "cell_type": "code",
   "execution_count": null,
   "id": "93981a80-1540-4c4c-810f-3d0c70649cbb",
   "metadata": {},
   "outputs": [],
   "source": [
    "surface(adi(0.05,0.255))"
   ]
  },
  {
   "cell_type": "markdown",
   "id": "237cdd70-e104-4e8f-af67-27e9b95b4f4b",
   "metadata": {},
   "source": [
    "### Ejercicio\n",
    "\n",
    "El objetivo ahora es estimar el orden del método ADI para $\\Delta t$. Para esto adaptar la función `adi` para que tome como parametro $\\Delta t$ y luego crear una solución de referencia $u_{ref}$. Tomar distintos valores del paso y comparar el error con dicha función de referencia.\n",
    "\n",
    "1. Hacer un gráfico $\\log(\\Delta t)$ vs $\\log(error)$.\n",
    "2. Usar el la función `fit` del paquete `Polynomials` para hacer la estimación del orden. "
   ]
  },
  {
   "cell_type": "code",
   "execution_count": 49,
   "id": "dff3d69b-d3e8-43f8-965c-339bec1dc136",
   "metadata": {},
   "outputs": [],
   "source": [
    "## completar"
   ]
  },
  {
   "cell_type": "code",
   "execution_count": null,
   "id": "bccf5ec9-bd05-4883-8001-21d7fc39d51a",
   "metadata": {},
   "outputs": [],
   "source": []
  }
 ],
 "metadata": {
  "kernelspec": {
   "display_name": "Julia 1.10.1",
   "language": "julia",
   "name": "julia-1.10"
  },
  "language_info": {
   "file_extension": ".jl",
   "mimetype": "application/julia",
   "name": "julia",
   "version": "1.10.1"
  }
 },
 "nbformat": 4,
 "nbformat_minor": 5
}
