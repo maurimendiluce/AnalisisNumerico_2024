{
 "cells": [
  {
   "cell_type": "markdown",
   "id": "4fa573a3-8263-487f-81b6-52fa059e8784",
   "metadata": {},
   "source": [
    "# Actividad Nº2"
   ]
  },
  {
   "cell_type": "markdown",
   "id": "bc9a8e4b-3b0b-4339-b6cc-be868a5cf08d",
   "metadata": {},
   "source": [
    "### Ejercicio 1\n",
    "\n",
    "Retomamos el ejercicio de capa limite de la actividad anterior."
   ]
  },
  {
   "cell_type": "code",
   "execution_count": null,
   "id": "07777f1a-cab8-4916-8aa4-4c3211f8cdd3",
   "metadata": {},
   "outputs": [],
   "source": [
    "#completar"
   ]
  },
  {
   "cell_type": "markdown",
   "id": "c31bae4e-4856-4454-b089-035f86df4220",
   "metadata": {},
   "source": [
    "### Ejercicio 2 (está en la guía)\n",
    "\n",
    "Implementar una función `calor` que resuelva la ecuación del calor $u_t=u_{xx}$, con un método explícito. La función debe tomar como argumento el inervalo a considerar (por defecto el intervalo $[0,1]$) y el dato inicial $u(x,0) = u_0(x)$, usando condiciones de borde de tipo Dirichlet homogeneas.\n",
    "\n",
    "1. Tomar $u_0(x) = x\\chi_{[0,1/2]} + (1-x)\\chi_{[1/2,1]}$ y  $h=0.05$.\n",
    "\n",
    "\n",
    "        - Avanzar 50 pasos usando $k=0.0012$. Verificar valor de $r$.\n",
    "        - Avanzar 50 pasos usando $k=0.0013$. Verificar valor de $r$.\n",
    "        - ¿Que conclusiones puede sacar?\n",
    "    \n",
    "2. Ahora, tomando $k=0.0013$ resolver\n",
    "    - $u_t=u_{xx}\\ \\ \\ \\ \\ \\ u(0,t)=u(1,t)=0 \\ \\ \\ \\ \\ \\ u(x,0)= x(1-x), $\n",
    "    - $u_t=u_{xx}\\ \\ \\ \\ \\ \\ u(0,t)=u(1,t)=0 \\ \\ \\ \\ \\ \\ u(x,0)= \\sin (\\pi x). $\n",
    "\n",
    "\n",
    "Observar que ambos casos resultan estables en los primeros 50\n",
    "pasos ¿Qué sucede para 100 pasos?\n",
    "\n",
    "\n"
   ]
  },
  {
   "cell_type": "markdown",
   "id": "d8b2402d-3df1-432f-9986-c8878f76a48e",
   "metadata": {},
   "source": [
    "Recuerdomes como es el esquema explicito:\n",
    "\n",
    "$$\\frac{u_j^{n+1}-u_j^{n}}{\\Delta t} = \\frac{u_{j+1}^{n}-2u_j^n+u_{j-1}^{n}}{\\Delta x^2} $$\n",
    "\n",
    "Antes de implementar escribir como quedarían las matrices para este esquema."
   ]
  },
  {
   "cell_type": "code",
   "execution_count": 4,
   "id": "26e30471-4044-4dcc-a514-a0ef558b61d1",
   "metadata": {},
   "outputs": [],
   "source": [
    "using LinearAlgebra, Plots"
   ]
  },
  {
   "cell_type": "code",
   "execution_count": 1,
   "id": "1873cd07-5a85-42be-b646-0b06890963c4",
   "metadata": {},
   "outputs": [],
   "source": [
    "#completar"
   ]
  }
 ],
 "metadata": {
  "kernelspec": {
   "display_name": "Julia 1.10.1",
   "language": "julia",
   "name": "julia-1.10"
  },
  "language_info": {
   "file_extension": ".jl",
   "mimetype": "application/julia",
   "name": "julia",
   "version": "1.10.1"
  }
 },
 "nbformat": 4,
 "nbformat_minor": 5
}
