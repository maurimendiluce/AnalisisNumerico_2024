{
 "cells": [
  {
   "cell_type": "markdown",
   "id": "775b8afd-30e4-4739-87b1-c762526b47d6",
   "metadata": {},
   "source": [
    "# Ecuaciones Hiperbólicas"
   ]
  },
  {
   "cell_type": "markdown",
   "id": "7dbda72b-fff1-4a66-b5ef-255e48313bdd",
   "metadata": {},
   "source": [
    "El objetivo es observar como se compartan los diferentes esquemas vistos en la Práctica 3. \n",
    "\n",
    "Consideremos el problema $$U_t+aU_x=0$$\n",
    "\n",
    "con\n",
    "\n",
    "$$U(x,0)=U_0(x)=\\left\\{\\begin{array}{rr}\n",
    "1 & 0.1< x <0.4 \\\\\n",
    "0 & x<0.4\n",
    "\\end{array}\\right.\n",
    "$$\n",
    "\n",
    "Recordar que en este caso la solución de la ecucación estará dada por $$U(x,t)=U_0(x-at)$$"
   ]
  },
  {
   "cell_type": "code",
   "execution_count": 1,
   "id": "d3e40d41-acdf-4900-a81a-4d611301b426",
   "metadata": {},
   "outputs": [],
   "source": [
    "using Plots"
   ]
  },
  {
   "cell_type": "code",
   "execution_count": 3,
   "id": "8542ca27-1a78-45b6-94bc-4f63a2a8a43b",
   "metadata": {},
   "outputs": [
    {
     "data": {
      "text/plain": [
       "U (generic function with 1 method)"
      ]
     },
     "execution_count": 3,
     "metadata": {},
     "output_type": "execute_result"
    }
   ],
   "source": [
    "function U₀(x)\n",
    "    if 0.1<x<=0.4\n",
    "        return 1\n",
    "    else\n",
    "        return 0\n",
    "    end\n",
    "end\n",
    "\n",
    "function U(x,t;a=0.9)\n",
    "    return U₀(x-a*t)\n",
    "end"
   ]
  },
  {
   "cell_type": "markdown",
   "id": "1afeda17-f5f8-4808-8414-36315237735b",
   "metadata": {},
   "source": [
    "#### Método Up-Wind\r\n",
    "\r\n",
    "Sea $\\nu=\\frac{\\Delta t}{\\Delta x}$ el método up-wind usando backward queda determinado por $$u^{n+1}_j=u^n_j-a\\nu(u^n_j-u^n_{j-1})$$"
   ]
  },
  {
   "cell_type": "code",
   "execution_count": 44,
   "id": "9d66e89a-5e2a-4b75-856d-3bf799b3b77c",
   "metadata": {},
   "outputs": [
    {
     "data": {
      "text/plain": [
       "up_wind (generic function with 2 methods)"
      ]
     },
     "execution_count": 44,
     "metadata": {},
     "output_type": "execute_result"
    }
   ],
   "source": [
    "function up_wind(U₀,U,Δx,Δt,steps;a=0.9)\n",
    "\n",
    "    x = 0:Δx:3\n",
    "    u = zeros(length(x),steps)\n",
    "    for j=1:length(x)\n",
    "        u[j,1]=U₀(x[j])\n",
    "    end\n",
    "\n",
    "    ν=Δt/Δx\n",
    "    for n=2:steps\n",
    "        for j=2:length(x)\n",
    "            u[j,n]=u[j,n-1]-ν*a*(u[j,n-1]-u[j-1,n-1])\n",
    "        end\n",
    "    end\n",
    "\n",
    "    U_ex=zeros(length(x),steps)\n",
    "    for n=1:steps\n",
    "        for j=1:length(x)\n",
    "            U_ex[j,n]=U(x[j],Δt*n)\n",
    "        end\n",
    "    end\n",
    "    #plot(x,U_ex[:,steps],ls=:dash,label=\"Solución exacta\")\n",
    "    #plot!(x,u[:,steps],label=\"Solución numérica\")\n",
    "    return x,u,U_ex\n",
    "end"
   ]
  },
  {
   "cell_type": "code",
   "execution_count": 46,
   "id": "b8d25c0f-6f41-4a4a-a27c-eafeb1d71455",
   "metadata": {},
   "outputs": [
    {
     "data": {
      "text/plain": [
       "(0.0:0.01:3.0, [0.0 0.0 … 0.0 0.0; 0.0 0.0 … 0.0 0.0; … ; 0.0 0.0 … 6.189221693782113e-16 9.754890719888996e-16; 0.0 0.0 … 2.6848786705810757e-16 4.2618330310215424e-16], [0.0 0.0 … 0.0 0.0; 0.0 0.0 … 0.0 0.0; … ; 0.0 0.0 … 0.0 0.0; 0.0 0.0 … 0.0 0.0])"
      ]
     },
     "execution_count": 46,
     "metadata": {},
     "output_type": "execute_result"
    }
   ],
   "source": [
    "up_wind(U₀,U,0.01,0.005,400)"
   ]
  },
  {
   "cell_type": "code",
   "execution_count": null,
   "id": "3c7ed80b-fe09-49d7-8f14-be973796b3c2",
   "metadata": {},
   "outputs": [],
   "source": [
    "Δx = 0.01\n",
    "steps=500\n",
    "x,u,U_ex = up_wind(U₀,U,Δx,0.005,steps)\n",
    "anim = @animate for n=1:steps\n",
    "    plot(x,U_ex[:,n],ls=:dash,label=\"Solución exacta\")\n",
    "    plot!(x,u[:,n],label=\"Solución numérica\")\n",
    "end\n",
    "gif(anim, \"up_wind.gif\", fps = 15) "
   ]
  },
  {
   "cell_type": "markdown",
   "id": "94903969-fa9e-412b-91bc-ffc603e8887d",
   "metadata": {},
   "source": [
    "#### Método Lax-Wendroff\n",
    "\n",
    "Sea $\\nu=\\frac{\\Delta t}{\\Delta x}$, el método up-wind usando backward queda determinado por $$u^{n+1}_j=u^n_j-\\frac{a}{2}\\nu(u^n_{j+1}-u^n_{j-1})+\\frac{a^2}{2}\\nu^2(u^n_{j+1}-2u^n_j+u^n_{j-1})$$ "
   ]
  },
  {
   "cell_type": "code",
   "execution_count": 34,
   "id": "2570ae54-85f5-4933-8699-82e771e13920",
   "metadata": {},
   "outputs": [
    {
     "data": {
      "text/plain": [
       "lax_wendroff (generic function with 2 methods)"
      ]
     },
     "execution_count": 34,
     "metadata": {},
     "output_type": "execute_result"
    }
   ],
   "source": [
    "function lax_wendroff(U₀,U,Δx,Δt,steps;a=0.9)\n",
    "\n",
    "    x=0:Δx:3\n",
    "    u = zeros(length(x),steps)\n",
    "    for j=1:length(x)\n",
    "        u[j,1]=U₀(x[j])\n",
    "    end\n",
    "\n",
    "    ν=Δt/Δx\n",
    "    for n=2:steps\n",
    "        for j=2:length(x)-1\n",
    "            u[j,n]=u[j,n-1]-ν*(a/2)*(u[j+1,n-1]-u[j-1,n-1])-(a^2)*(0.5*Δx^2)*Δt*(u[j+1,n-1]-2*u[j,n-1]+u[j-1,n-1])\n",
    "        end\n",
    "    end\n",
    "\n",
    "    U_ex=zeros(length(x),steps)\n",
    "    for n=1:steps\n",
    "        for j=1:length(x)\n",
    "            U_ex[j,n]=U(x[j],Δt*n)\n",
    "        end\n",
    "    end\n",
    "\n",
    "    #plot(x,U_ex[:,steps],ls=:dash,label=\"Solución exacta\")\n",
    "    #plot!(x,u[:,steps],label=\"Solución numérica\")\n",
    "    return x,u,U_ex\n",
    "end"
   ]
  },
  {
   "cell_type": "code",
   "execution_count": 36,
   "id": "710b278e-5ce5-45d6-a235-a8b9ff414b46",
   "metadata": {},
   "outputs": [
    {
     "data": {
      "text/plain": [
       "(0.0:0.02:3.0, [0.0 0.0 … 0.0 0.0; 0.0 0.0 … 0.0 0.0; … ; 0.0 0.0 … 0.0 0.0; 0.0 0.0 … 0.0 0.0], [0.0 0.0 … 0.0 0.0; 0.0 0.0 … 0.0 0.0; … ; 0.0 0.0 … 0.0 0.0; 0.0 0.0 … 0.0 0.0])"
      ]
     },
     "execution_count": 36,
     "metadata": {},
     "output_type": "execute_result"
    }
   ],
   "source": [
    "lax_wendroff(U₀,U,0.02,0.001,5)"
   ]
  },
  {
   "cell_type": "code",
   "execution_count": null,
   "id": "6fc53ad3-7362-4e88-99e4-7998e72d40d1",
   "metadata": {},
   "outputs": [],
   "source": [
    "Δx = 0.01\n",
    "steps=100\n",
    "x,u,U_ex = lax_wendroff(U₀,U,Δx,0.001,steps)\n",
    "anim = @animate for n=1:steps\n",
    "    plot(x,U_ex[:,n],ls=:dash,label=\"Solución exacta\")\n",
    "    plot!(x,u[:,n],label=\"Solución numérica\")\n",
    "end\n",
    "gif(anim, \"lax_wendroff.gif\", fps = 5) "
   ]
  },
  {
   "cell_type": "markdown",
   "id": "b5ef108a-824c-4748-bac2-ca9f1d6a50ae",
   "metadata": {},
   "source": [
    "**Comentario:** Las oscilaciones surgen porque el esquema de Lax-Wendroff\r\n",
    "no satisface un principio de máximo. Vemos en $$ u^{n+1}_j = \\frac{1}{2}\\nu(1 + \\nu)u^n_{j-1} + (1 - \\nu^2)u^n_j - \\frac{1}{2} \\nu(1 - \\nu)u^n_{j+1}$$ que con\r\n",
    "$\\nu > 0$ el coeficiente de $u^n_{j+1}$ es negativo, ya que requerimos que $\\nu ≤ 1$ para la estabilidad. Por lo tanto $u^{n+1}_j$ puede verse como un promedio ponderado de tres valores en el nivel de tiempo anterior, pero dos de los pesos son positivos y uno es negativo. Por lo tanto, es posible que la solución numérica tenga oscilaciones con máximos y mínimos internos."
   ]
  },
  {
   "cell_type": "markdown",
   "id": "308e1644-d399-4041-8490-b235606b0c91",
   "metadata": {},
   "source": [
    "Como ejemplo de un problema con una solución suave, consideramos la misma ecuación que antes, pero reemplazamos la condición inicial por $$U(x,0)=e^{-10(4x-1)^2}$$\n",
    "\n",
    "Realizar el mismo analisis de antes y notar que ahora el pulso tiene una forma gaussiana suave, en lugar de una onda cuadrada discontinua. Al utilizar los mismos tamaños de malla que antes, los resultados son considerablemente más precisos. Todavía hay algún signo de oscilación a la izquierda del pulso en el momento, pero es mucho menor que en el caso discontinuo. Además, el uso del tamaño de malla más pequeño ha reducido el tamaño de los errores y esta oscilación se vuelve casi invisible."
   ]
  },
  {
   "cell_type": "code",
   "execution_count": 3,
   "id": "4d7ce0f7-0d79-47aa-8bec-44cc5af1a82d",
   "metadata": {},
   "outputs": [],
   "source": [
    "#completar"
   ]
  },
  {
   "cell_type": "code",
   "execution_count": 1,
   "id": "b249c61d-bad8-4df0-a5c6-e017061e1851",
   "metadata": {},
   "outputs": [],
   "source": [
    "#Completar"
   ]
  },
  {
   "cell_type": "markdown",
   "id": "1eca22dc-6710-4c96-8b93-2af8e6812377",
   "metadata": {},
   "source": [
    "#### **Ejercicio**:\r\n",
    "Implementar los esquemas de Lax-Friedrichs y Leapfrog realizar el mismo análisis."
   ]
  },
  {
   "cell_type": "code",
   "execution_count": 38,
   "id": "41465bf0-eba8-486d-9ebc-6ec012b4ba49",
   "metadata": {},
   "outputs": [],
   "source": [
    "#completar"
   ]
  },
  {
   "cell_type": "code",
   "execution_count": null,
   "id": "8bd9dbf9-b18d-454c-8ad1-134b50dd97c5",
   "metadata": {},
   "outputs": [],
   "source": []
  }
 ],
 "metadata": {
  "kernelspec": {
   "display_name": "Julia 1.10.1",
   "language": "julia",
   "name": "julia-1.10"
  },
  "language_info": {
   "file_extension": ".jl",
   "mimetype": "application/julia",
   "name": "julia",
   "version": "1.10.1"
  }
 },
 "nbformat": 4,
 "nbformat_minor": 5
}
