{
 "cells": [
  {
   "cell_type": "markdown",
   "id": "48ebac2e-c85d-42bc-82e4-89e800f11cfb",
   "metadata": {},
   "source": [
    "# Análisis Numérico 2024 "
   ]
  },
  {
   "cell_type": "markdown",
   "id": "b44eda47-8cec-45c9-ba8f-1045b8d0b9b7",
   "metadata": {},
   "source": [
    "## Actividad N°1"
   ]
  },
  {
   "cell_type": "markdown",
   "id": "d48a7045-f4fb-4792-8daf-71e260074be2",
   "metadata": {},
   "source": [
    "### Ejercicio 1\n",
    "1. Implementar una función `derivada` que tome como argumento el $x$ y el tipo de método a utilizar (forward (por defecto), backward, centradas).\n",
    "2. Tomar $u(x)=\\sin(x)$ y aplicar cada discretización para distintos tamaños de h imprimiendo el error al calcular $u'(1)$.\n",
    "3. Implementar una función `orden` que estime el orden de la aproximación.\n",
    "4. Graficar en un mismo plot el $log(h)$ vs $log(error)$ para cada caso. "
   ]
  },
  {
   "cell_type": "code",
   "execution_count": null,
   "id": "c60c7f4c-d1b6-4c07-b3ab-69368be94050",
   "metadata": {},
   "outputs": [],
   "source": [
    "using LinearAlgebra, Plots"
   ]
  },
  {
   "cell_type": "code",
   "execution_count": null,
   "id": "16f6299d-ef99-40f2-8780-11fe4631a707",
   "metadata": {},
   "outputs": [],
   "source": [
    "function polyfit(x,y)\n",
    "\tn=length(x)\n",
    "\tA=[ones(n) x]\n",
    "\tK=A'*A\n",
    "\tb=A'*y\n",
    "\tα, β = K\\b\n",
    "\treturn [α,β]\n",
    "end"
   ]
  },
  {
   "cell_type": "code",
   "execution_count": null,
   "id": "29a06746-d4ec-4597-8ccf-995ab9de3155",
   "metadata": {},
   "outputs": [],
   "source": [
    "#completar"
   ]
  },
  {
   "cell_type": "markdown",
   "id": "dc2f92d4-9d07-45d7-988e-61ebc5b8f080",
   "metadata": {},
   "source": [
    "---"
   ]
  },
  {
   "cell_type": "markdown",
   "id": "4ee6eee6-d2f9-4851-a12d-f1e0a16cfc67",
   "metadata": {},
   "source": [
    "### Ejercicio 2 (Capa límite)"
   ]
  },
  {
   "cell_type": "markdown",
   "id": "3158c334-0bce-483b-999f-51148f68c8b1",
   "metadata": {},
   "source": [
    "Consedere la ecuación \n",
    "\n",
    "$$\\varepsilon u_{xx} - u_{x} = f, \\hspace{1cm} u(0)=\\alpha \\ \\ \\ u(1)=\\beta.$$\t\n",
    "\n",
    "cuya solución exacta para el caso $f(x) = 1$ está dada por\n",
    "\t\n",
    "$$u_{\\varepsilon}(x) = \\alpha + x + (\\beta - \\alpha -1) \\left( \t\\frac{e^{x/\\varepsilon}-1 }{e^{1/\\varepsilon}-1} \\right)$$"
   ]
  },
  {
   "cell_type": "markdown",
   "id": "8e787d90-c740-4ca9-9cdf-186b45f80c58",
   "metadata": {},
   "source": [
    "1. Graficar la solución exacta para el caso $\\alpha=1,\\beta=3$ a medida que $\\varepsilon \\to 0$. Interprete el singnificado del término \\textit{capa l\\'imite} que se suele aplicar al comportamiento de $u_\\varepsilon(x)$ para $x$ cerca del borde $\\{ x=1 \\}$ y $\\varepsilon \\to 0$. \n",
    "\t\n",
    "2. Implementar una función `capa_limite` que resuelva numéricamente la ecuación usando diferencias centradas para las derivadas primera y segunda, y una malla de tamaño $h$. Grafique el error para distintos valores de $h$ y $\\varepsilon$. ¿Qué ocurre si $h>>2\\varepsilon$?"
   ]
  },
  {
   "cell_type": "markdown",
   "id": "31d0ba2d-3812-4af1-91a3-0a1e6dbde4d5",
   "metadata": {},
   "source": [
    ">Una ecuación de ésta forma se obtiene, por ejemplo, al considerar el estado estacionario ($u_t=0$) de un problema de convección-difusión $u_t = \\kappa u_{xx} + a u_x + \\phi$, con constantes de difusividad $\\kappa>0$ y de convección $a \\in \\mathbb{R}$. A la proporción $Pe = a/\\kappa$ se la conoce como el *número de Péclet*, y se toma $\\varepsilon = 1/Pe$."
   ]
  },
  {
   "cell_type": "code",
   "execution_count": 2,
   "id": "2b5b0bef-0813-4697-bc98-751c1148d1e5",
   "metadata": {},
   "outputs": [],
   "source": [
    "#completar"
   ]
  },
  {
   "cell_type": "code",
   "execution_count": null,
   "id": "c376e215-9767-4daa-9043-be5b01b74526",
   "metadata": {},
   "outputs": [],
   "source": []
  }
 ],
 "metadata": {
  "kernelspec": {
   "display_name": "Julia 1.10.4",
   "language": "julia",
   "name": "julia-1.10"
  },
  "language_info": {
   "file_extension": ".jl",
   "mimetype": "application/julia",
   "name": "julia",
   "version": "1.10.4"
  }
 },
 "nbformat": 4,
 "nbformat_minor": 5
}
