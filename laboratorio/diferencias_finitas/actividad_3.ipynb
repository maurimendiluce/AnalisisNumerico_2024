{
 "cells": [
  {
   "cell_type": "markdown",
   "id": "0742339c-c98f-441e-a099-312c8f611106",
   "metadata": {},
   "source": [
    "# Actividad Nº3"
   ]
  },
  {
   "cell_type": "markdown",
   "id": "ef97c0f4-1e20-43c8-b234-7f60c9710ccf",
   "metadata": {},
   "source": [
    "## Método $\\theta$"
   ]
  },
  {
   "cell_type": "markdown",
   "id": "b1bba63f-7c91-47ca-9c83-49becca3dc2d",
   "metadata": {},
   "source": [
    "El objetivo es resolver el siguiente problema:\n",
    "\n",
    "$$\\begin{align}U_t&=U_{xx}\\\\\n",
    "U(0,t)&=U(1,t)=0\\\\\n",
    "U(x,0)&=U_0(x)\n",
    "\\end{align}$$\n",
    "\n",
    "Recordemos el esquema del método:\n",
    "$$\\frac{u^{n+1}_j-u^{n}_j}{k}=(1-\\theta)\\frac{u^{n}_{j+1}-2u^{n}_{j}-u^{n}_{j-1}}{h^2}+\\theta\\frac{u^{n+1}_{j+1}-2u^{n+1}_{j}-u^{n+1}_{j-1}}{h^2}$$"
   ]
  },
  {
   "cell_type": "markdown",
   "id": "bf2d2bb1-00e5-4291-8a62-e1dea07876d1",
   "metadata": {},
   "source": [
    "### Ejericicio 1:\n",
    "\n",
    "Implementar una función `metodo_theta` que tome como parámetros un $h$ y una cantidad de pasos predeterminada. Además debe tomar $U_0(x)$ como algunas de las funciones de la actividad anterior. $\\textbf{Sug:}$ Antes de escribir el código tenga en cuenta que matrices debo construir."
   ]
  },
  {
   "cell_type": "code",
   "execution_count": 1,
   "id": "658fbccc-0351-4463-bb32-4b75fbc60c1b",
   "metadata": {},
   "outputs": [],
   "source": [
    "#completar"
   ]
  },
  {
   "cell_type": "markdown",
   "id": "0f1db6ff-9072-44a5-9f2b-deb71f534b46",
   "metadata": {},
   "source": [
    "#### Ejericio 2:\n",
    "\n",
    "Tomar $\\theta=0.5$ y verificar la estabilidad independientemente del $r$. Observar lo que sucede si perturbo sensiblemente dicho valor de modo que $\\theta<0.5$."
   ]
  },
  {
   "cell_type": "code",
   "execution_count": 2,
   "id": "a842f667-9e77-43f3-bc3a-a9b4bb60552b",
   "metadata": {},
   "outputs": [],
   "source": [
    "#completar"
   ]
  },
  {
   "cell_type": "markdown",
   "id": "250becac-aded-47ce-941c-3fea51290d43",
   "metadata": {},
   "source": [
    "#### Ejercicio 3\n",
    "\n",
    "Consturiremos un mapa de calor. Para esto debemos construir por ejemplo una matriz que en cada columna (o fila) guarde los valores de $u$ a tiempo $t$. Para esto usaremos la funcion `heatmat`."
   ]
  },
  {
   "cell_type": "code",
   "execution_count": null,
   "id": "59f2e49f-b59f-47d7-8176-c1e0123ab114",
   "metadata": {},
   "outputs": [],
   "source": []
  }
 ],
 "metadata": {
  "kernelspec": {
   "display_name": "Julia 1.10.4",
   "language": "julia",
   "name": "julia-1.10"
  },
  "language_info": {
   "file_extension": ".jl",
   "mimetype": "application/julia",
   "name": "julia",
   "version": "1.10.4"
  }
 },
 "nbformat": 4,
 "nbformat_minor": 5
}
